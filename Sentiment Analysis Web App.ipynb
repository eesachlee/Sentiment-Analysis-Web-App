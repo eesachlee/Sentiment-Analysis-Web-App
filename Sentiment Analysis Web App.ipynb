{
 "cells": [
  {
   "cell_type": "code",
   "execution_count": 1,
   "id": "8c7ed07f",
   "metadata": {},
   "outputs": [
    {
     "name": "stdout",
     "output_type": "stream",
     "text": [
      "                                                Text Sentiment\n",
      "0                    The staff were polite but slow.   Neutral\n",
      "1  I fell asleep halfway through the film; it was...  Negative\n",
      "2            The park was clean and well-maintained.  Positive\n",
      "3             This phone has excellent battery life!  Positive\n",
      "4           The headphones are decent for the price.   Neutral\n"
     ]
    }
   ],
   "source": [
    "import pandas as pd\n",
    "\n",
    "# Load the dataset\n",
    "file_path = r\"C:\\Users\\Acer\\Downloads\\sentiment_dataset.xlsx\"\n",
    "df = pd.read_excel(file_path)\n",
    "\n",
    "# Display the first few rows of the dataset\n",
    "print(df.head())"
   ]
  },
  {
   "cell_type": "code",
   "execution_count": 2,
   "id": "e23a48e7",
   "metadata": {},
   "outputs": [
    {
     "name": "stdout",
     "output_type": "stream",
     "text": [
      "                                                Text Sentiment\n",
      "0                     the staff were polite but slow   Neutral\n",
      "1  i fell asleep halfway through the film it was ...  Negative\n",
      "2              the park was clean and wellmaintained  Positive\n",
      "3              this phone has excellent battery life  Positive\n",
      "4            the headphones are decent for the price   Neutral\n"
     ]
    }
   ],
   "source": [
    "import re\n",
    "\n",
    "def clean_text(text):\n",
    "    # Remove URLs\n",
    "    text = re.sub(r\"http\\S+\", \"\", text)\n",
    "    # Remove mentions and hashtags\n",
    "    text = re.sub(r\"@\\w+|#\\w+\", \"\", text)\n",
    "    # Remove special characters and numbers\n",
    "    text = re.sub(r\"[^a-zA-Z\\s]\", \"\", text)\n",
    "    # Convert to lowercase\n",
    "    text = text.lower().strip()\n",
    "    return text\n",
    "\n",
    "# Apply the cleaning function to the 'Text' column\n",
    "df['Text'] = df['Text'].apply(clean_text)\n",
    "\n",
    "# Display cleaned data\n",
    "print(df.head())"
   ]
  },
  {
   "cell_type": "code",
   "execution_count": null,
   "id": "bdf6fe55",
   "metadata": {},
   "outputs": [],
   "source": [
    "from transformers import pipeline\n",
    "\n",
    "# Use the fine-tuned model for sentiment analysis\n",
    "sentiment_analyzer = pipeline(\"sentiment-analysis\", model=\"distilbert-base-uncased-finetuned-sst-2-english\")\n",
    "\n",
    "# Apply the fine-tuned model to your dataset\n",
    "df['Predicted_Sentiment'] = df['Text'].apply(lambda x: sentiment_analyzer(x)[0]['label'].lower())\n",
    "\n",
    "# Display the results (Text, Actual Sentiment, Predicted Sentiment)\n",
    "print(df[['Text', 'Sentiment', 'Predicted_Sentiment']].head())\n"
   ]
  },
  {
   "cell_type": "code",
   "execution_count": null,
   "id": "67fbb75d",
   "metadata": {},
   "outputs": [],
   "source": []
  }
 ],
 "metadata": {
  "kernelspec": {
   "display_name": "Python 3 (ipykernel)",
   "language": "python",
   "name": "python3"
  },
  "language_info": {
   "codemirror_mode": {
    "name": "ipython",
    "version": 3
   },
   "file_extension": ".py",
   "mimetype": "text/x-python",
   "name": "python",
   "nbconvert_exporter": "python",
   "pygments_lexer": "ipython3",
   "version": "3.10.9"
  }
 },
 "nbformat": 4,
 "nbformat_minor": 5
}
