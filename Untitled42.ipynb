{
 "cells": [
  {
   "cell_type": "code",
   "execution_count": 1,
   "id": "8aecfdb3",
   "metadata": {},
   "outputs": [
    {
     "name": "stdout",
     "output_type": "stream",
     "text": [
      "                                                Text Sentiment\n",
      "0                    The staff were polite but slow.   Neutral\n",
      "1  I fell asleep halfway through the film; it was...  Negative\n",
      "2            The park was clean and well-maintained.  Positive\n",
      "3             This phone has excellent battery life!  Positive\n",
      "4           The headphones are decent for the price.   Neutral\n"
     ]
    }
   ],
   "source": [
    "import pandas as pd\n",
    "\n",
    "# Load the dataset\n",
    "file_path = r\"C:\\Users\\Acer\\Downloads\\sentiment_dataset.xlsx\"\n",
    "df = pd.read_excel(file_path)\n",
    "\n",
    "# Display the first few rows of the dataset\n",
    "print(df.head())"
   ]
  },
  {
   "cell_type": "code",
   "execution_count": 2,
   "id": "d2248923",
   "metadata": {},
   "outputs": [
    {
     "name": "stdout",
     "output_type": "stream",
     "text": [
      "                                                Text Sentiment\n",
      "0                     the staff were polite but slow   Neutral\n",
      "1  i fell asleep halfway through the film it was ...  Negative\n",
      "2              the park was clean and wellmaintained  Positive\n",
      "3              this phone has excellent battery life  Positive\n",
      "4            the headphones are decent for the price   Neutral\n"
     ]
    }
   ],
   "source": [
    "import re\n",
    "\n",
    "def clean_text(text):\n",
    "    # Remove URLs\n",
    "    text = re.sub(r\"http\\S+\", \"\", text)\n",
    "    # Remove mentions and hashtags\n",
    "    text = re.sub(r\"@\\w+|#\\w+\", \"\", text)\n",
    "    # Remove special characters and numbers\n",
    "    text = re.sub(r\"[^a-zA-Z\\s]\", \"\", text)\n",
    "    # Convert to lowercase\n",
    "    text = text.lower().strip()\n",
    "    return text\n",
    "\n",
    "# Apply the cleaning function to the 'Text' column\n",
    "df['Text'] = df['Text'].apply(clean_text)\n",
    "\n",
    "# Display cleaned data\n",
    "print(df.head())"
   ]
  },
  {
   "cell_type": "code",
   "execution_count": 3,
   "id": "17bb30b6",
   "metadata": {},
   "outputs": [
    {
     "name": "stderr",
     "output_type": "stream",
     "text": [
      "No model was supplied, defaulted to distilbert-base-uncased-finetuned-sst-2-english and revision af0f99b (https://huggingface.co/distilbert-base-uncased-finetuned-sst-2-english).\n",
      "Using a pipeline without specifying a model name and revision in production is not recommended.\n",
      "C:\\Users\\Acer\\anaconda3\\lib\\site-packages\\huggingface_hub\\file_download.py:795: FutureWarning: `resume_download` is deprecated and will be removed in version 1.0.0. Downloads always resume when possible. If you want to force a new download, use `force_download=True`.\n",
      "  warnings.warn(\n"
     ]
    },
    {
     "name": "stdout",
     "output_type": "stream",
     "text": [
      "                                                Text Sentiment  \\\n",
      "0                     the staff were polite but slow   Neutral   \n",
      "1  i fell asleep halfway through the film it was ...  Negative   \n",
      "2              the park was clean and wellmaintained  Positive   \n",
      "3              this phone has excellent battery life  Positive   \n",
      "4            the headphones are decent for the price   Neutral   \n",
      "\n",
      "  Predicted_Sentiment  \n",
      "0            NEGATIVE  \n",
      "1            NEGATIVE  \n",
      "2            POSITIVE  \n",
      "3            POSITIVE  \n",
      "4            POSITIVE  \n"
     ]
    }
   ],
   "source": [
    "from transformers import pipeline\n",
    "\n",
    "# Load the pre-trained sentiment analysis model\n",
    "sentiment_analyzer = pipeline(\"sentiment-analysis\")\n",
    "\n",
    "# Analyze the sentiment of the first few rows\n",
    "df['Predicted_Sentiment'] = df['Text'].apply(lambda x: sentiment_analyzer(x)[0]['label'])\n",
    "\n",
    "# Display the results\n",
    "print(df[['Text', 'Sentiment', 'Predicted_Sentiment']].head())\n"
   ]
  },
  {
   "cell_type": "code",
   "execution_count": 4,
   "id": "27405bb4",
   "metadata": {},
   "outputs": [
    {
     "name": "stderr",
     "output_type": "stream",
     "text": [
      "C:\\Users\\Acer\\anaconda3\\lib\\site-packages\\huggingface_hub\\file_download.py:795: FutureWarning: `resume_download` is deprecated and will be removed in version 1.0.0. Downloads always resume when possible. If you want to force a new download, use `force_download=True`.\n",
      "  warnings.warn(\n"
     ]
    },
    {
     "name": "stdout",
     "output_type": "stream",
     "text": [
      "Accuracy: 80.00%\n",
      "              precision    recall  f1-score   support\n",
      "\n",
      "    negative       0.83      1.00      0.91       100\n",
      "     neutral       0.00      0.00      0.00        50\n",
      "    positive       0.77      1.00      0.87       100\n",
      "\n",
      "    accuracy                           0.80       250\n",
      "   macro avg       0.53      0.67      0.59       250\n",
      "weighted avg       0.64      0.80      0.71       250\n",
      "\n",
      "Results saved to C:\\Users\\Acer\\Downloads\\sentiment_analysis_results_finetuned.xlsx\n"
     ]
    },
    {
     "name": "stderr",
     "output_type": "stream",
     "text": [
      "C:\\Users\\Acer\\anaconda3\\lib\\site-packages\\sklearn\\metrics\\_classification.py:1344: UndefinedMetricWarning: Precision and F-score are ill-defined and being set to 0.0 in labels with no predicted samples. Use `zero_division` parameter to control this behavior.\n",
      "  _warn_prf(average, modifier, msg_start, len(result))\n",
      "C:\\Users\\Acer\\anaconda3\\lib\\site-packages\\sklearn\\metrics\\_classification.py:1344: UndefinedMetricWarning: Precision and F-score are ill-defined and being set to 0.0 in labels with no predicted samples. Use `zero_division` parameter to control this behavior.\n",
      "  _warn_prf(average, modifier, msg_start, len(result))\n",
      "C:\\Users\\Acer\\anaconda3\\lib\\site-packages\\sklearn\\metrics\\_classification.py:1344: UndefinedMetricWarning: Precision and F-score are ill-defined and being set to 0.0 in labels with no predicted samples. Use `zero_division` parameter to control this behavior.\n",
      "  _warn_prf(average, modifier, msg_start, len(result))\n"
     ]
    }
   ],
   "source": [
    "import pandas as pd\n",
    "from transformers import pipeline\n",
    "from sklearn.metrics import accuracy_score, classification_report\n",
    "\n",
    "# Step 1: Load the dataset\n",
    "file_path = r\"C:\\Users\\Acer\\Downloads\\sentiment_dataset.xlsx\"\n",
    "df = pd.read_excel(file_path)\n",
    "\n",
    "# Step 2: Standardize the labels to lowercase\n",
    "df['Sentiment'] = df['Sentiment'].str.lower()\n",
    "\n",
    "# Step 3: Use the fine-tuned sentiment analysis model\n",
    "sentiment_analyzer = pipeline(\"sentiment-analysis\", model=\"distilbert-base-uncased-finetuned-sst-2-english\")\n",
    "\n",
    "# Apply the fine-tuned model to the dataset\n",
    "df['Predicted_Sentiment'] = df['Text'].apply(lambda x: sentiment_analyzer(x)[0]['label'].lower())\n",
    "\n",
    "# Step 4: Re-standardize the predicted labels to lowercase (if necessary)\n",
    "df['Predicted_Sentiment'] = df['Predicted_Sentiment'].str.lower()\n",
    "\n",
    "# Step 5: Evaluate the model\n",
    "accuracy = accuracy_score(df['Sentiment'], df['Predicted_Sentiment'])\n",
    "print(f\"Accuracy: {accuracy * 100:.2f}%\")\n",
    "\n",
    "# Detailed classification report\n",
    "print(classification_report(df['Sentiment'], df['Predicted_Sentiment']))\n",
    "\n",
    "# Step 6: Save the results to a new Excel file\n",
    "output_path = r\"C:\\Users\\Acer\\Downloads\\sentiment_analysis_results_finetuned.xlsx\"\n",
    "df.to_excel(output_path, index=False)\n",
    "\n",
    "print(f\"Results saved to {output_path}\")"
   ]
  },
  {
   "cell_type": "code",
   "execution_count": 5,
   "id": "a7eb8f43",
   "metadata": {},
   "outputs": [
    {
     "data": {
      "image/png": "[encoded data removed]",
      "text/plain": [
       "<Figure size 640x480 with 2 Axes>"
      ]
     },
     "metadata": {},
     "output_type": "display_data"
    }
   ],
   "source": [
    "from sklearn.metrics import confusion_matrix\n",
    "import seaborn as sns\n",
    "import matplotlib.pyplot as plt\n",
    "\n",
    "cm = confusion_matrix(df['Sentiment'], df['Predicted_Sentiment'], labels=['positive', 'negative', 'neutral'])\n",
    "sns.heatmap(cm, annot=True, fmt='d', cmap='Blues', xticklabels=['positive', 'negative', 'neutral'], yticklabels=['positive', 'negative', 'neutral'])\n",
    "plt.xlabel('Predicted')\n",
    "plt.ylabel('Actual')\n",
    "plt.title('Confusion Matrix')\n",
    "plt.show()\n"
   ]
  },
  {
   "cell_type": "code",
   "execution_count": null,
   "id": "c25a154a",
   "metadata": {},
   "outputs": [],
   "source": [
    "from datasets import Dataset\n",
    "\n",
    "# Tokenize the dataset\n",
    "def tokenize_function(examples):\n",
    "    return tokenizer(examples['Text'], padding='max_length', truncation=True)\n",
    "\n",
    "# Convert the DataFrames to Datasets\n",
    "train_dataset = Dataset.from_pandas(train_df)\n",
    "eval_dataset = Dataset.from_pandas(eval_df)\n",
    "\n",
    "# Apply the tokenization function to the datasets\n",
    "train_dataset = train_dataset.map(tokenize_function, batched=True)\n",
    "eval_dataset = eval_dataset.map(tokenize_function, batched=True)\n",
    "\n",
    "# Initialize the Trainer with the correct datasets\n",
    "trainer = Trainer(\n",
    "    model=model,                         # the model to be trained\n",
    "    args=training_args,                  # training arguments\n",
    "    train_dataset=train_dataset,         # the training dataset\n",
    "    eval_dataset=eval_dataset,           # the evaluation dataset\n",
    "    tokenizer=tokenizer                  # tokenizer\n",
    ")\n",
    "\n",
    "# Train the model\n",
    "trainer.train()\n",
    "\n",
    "# Save the trained model\n",
    "model.save_pretrained('./sentiment_model')"
   ]
  },
  {
   "cell_type": "code",
   "execution_count": null,
   "id": "1ebf2ba9",
   "metadata": {},
   "outputs": [],
   "source": []
  }
 ],
 "metadata": {
  "kernelspec": {
   "display_name": "Python 3 (ipykernel)",
   "language": "python",
   "name": "python3"
  },
  "language_info": {
   "codemirror_mode": {
    "name": "ipython",
    "version": 3
   },
   "file_extension": ".py",
   "mimetype": "text/x-python",
   "name": "python",
   "nbconvert_exporter": "python",
   "pygments_lexer": "ipython3",
   "version": "3.10.9"
  }
 },
 "nbformat": 4,
 "nbformat_minor": 5
}
