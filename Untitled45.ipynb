{
 "cells": [
  {
   "cell_type": "code",
   "execution_count": 23,
   "id": "fa48a0d5-d441-4741-bb15-144088171a7e",
   "metadata": {
    "scrolled": true
   },
   "outputs": [
    {
     "name": "stdout",
     "output_type": "stream",
     "text": [
      "                                            sentence sentiment\n",
      "0  So there is no way for me to plug it in here i...  negative\n",
      "1                        Good case, Excellent value.  positive\n",
      "2                             Great for the jawbone.  positive\n",
      "3  Tied to charger for conversations lasting more...  negative\n",
      "4                                  The mic is great.  positive\n"
     ]
    }
   ],
   "source": [
    "# Load the new dataset\n",
    "import pandas as pd\n",
    "\n",
    "file_path = r\"C:\\Users\\Acer\\Desktop\\Sentiment Analysis Web App\\archive\\combined_sentiment_data.csv\"\n",
    "df = pd.read_csv(file_path)\n",
    "\n",
    "# Display the first few rows to verify the data\n",
    "print(df.head())\n"
   ]
  },
  {
   "cell_type": "code",
   "execution_count": 25,
   "id": "f3c7ef1f-f3d7-4703-8104-0006fc48654e",
   "metadata": {},
   "outputs": [
    {
     "name": "stdout",
     "output_type": "stream",
     "text": [
      "sentence     0\n",
      "sentiment    0\n",
      "dtype: int64\n",
      "Accuracy Score: 0.8293051359516617\n",
      "\n",
      "Classification Report:\n",
      "               precision    recall  f1-score   support\n",
      "\n",
      "    negative       0.81      0.87      0.84       334\n",
      "    positive       0.85      0.79      0.82       328\n",
      "\n",
      "    accuracy                           0.83       662\n",
      "   macro avg       0.83      0.83      0.83       662\n",
      "weighted avg       0.83      0.83      0.83       662\n",
      "\n"
     ]
    }
   ],
   "source": [
    "# Import necessary libraries\n",
    "import pandas as pd\n",
    "from sklearn.model_selection import train_test_split\n",
    "from sklearn.feature_extraction.text import CountVectorizer\n",
    "from sklearn.linear_model import LogisticRegression\n",
    "from sklearn.metrics import accuracy_score, classification_report\n",
    "\n",
    "# Load the new dataset\n",
    "file_path = r\"C:\\Users\\Acer\\Desktop\\Sentiment Analysis Web App\\archive\\combined_sentiment_data.csv\"\n",
    "df = pd.read_csv(file_path)\n",
    "\n",
    "# Check for missing values in the dataset\n",
    "print(df.isnull().sum())\n",
    "\n",
    "# Drop rows with missing values in text or sentiment columns (if any)\n",
    "df.dropna(subset=['sentence', 'sentiment'], inplace=True)\n",
    "\n",
    "# Separate features (X) and labels (y)\n",
    "X = df['sentence']\n",
    "y = df['sentiment']\n",
    "\n",
    "# Split the dataset into training and testing sets (80% training, 20% testing)\n",
    "X_train, X_test, y_train, y_test = train_test_split(X, y, test_size=0.2, random_state=42)\n",
    "\n",
    "# Vectorize the text data using CountVectorizer\n",
    "vectorizer = CountVectorizer(stop_words='english')\n",
    "X_train_vect = vectorizer.fit_transform(X_train)\n",
    "X_test_vect = vectorizer.transform(X_test)\n",
    "\n",
    "# Initialize the Logistic Regression model\n",
    "model = LogisticRegression()\n",
    "\n",
    "# Train the model\n",
    "model.fit(X_train_vect, y_train)\n",
    "\n",
    "# Make predictions\n",
    "y_pred = model.predict(X_test_vect)\n",
    "\n",
    "# Evaluate the model\n",
    "print(\"Accuracy Score:\", accuracy_score(y_test, y_pred))\n",
    "print(\"\\nClassification Report:\\n\", classification_report(y_test, y_pred))\n"
   ]
  },
  {
   "cell_type": "code",
   "execution_count": 26,
   "id": "b6694ba2-645c-42ca-a49e-2ac4440cea91",
   "metadata": {},
   "outputs": [
    {
     "name": "stdout",
     "output_type": "stream",
     "text": [
      "F1-score: 0.8290448417279818\n",
      "\n",
      "Classification Report:\n",
      "              precision    recall  f1-score   support\n",
      "\n",
      "    negative       0.81      0.87      0.84       334\n",
      "    positive       0.85      0.79      0.82       328\n",
      "\n",
      "    accuracy                           0.83       662\n",
      "   macro avg       0.83      0.83      0.83       662\n",
      "weighted avg       0.83      0.83      0.83       662\n",
      "\n"
     ]
    },
    {
     "data": {
      "image/png": "[encoded data removed]",
      "text/plain": [
       "<Figure size 600x500 with 2 Axes>"
      ]
     },
     "metadata": {},
     "output_type": "display_data"
    }
   ],
   "source": [
    "from sklearn.metrics import f1_score, classification_report, confusion_matrix\n",
    "import matplotlib.pyplot as plt\n",
    "import seaborn as sns\n",
    "import numpy as np\n",
    "\n",
    "# Predict on the test data\n",
    "y_pred = model.predict(X_test_vect)\n",
    "\n",
    "# Calculate F1-score\n",
    "f1 = f1_score(y_test, y_pred, average='weighted')  # For multi-class classification, change to 'weighted'\n",
    "print(f\"F1-score: {f1}\")\n",
    "\n",
    "# Classification report\n",
    "print(\"\\nClassification Report:\")\n",
    "print(classification_report(y_test, y_pred))\n",
    "\n",
    "# Confusion Matrix\n",
    "cm = confusion_matrix(y_test, y_pred)\n",
    "\n",
    "# Plot Confusion Matrix using Seaborn heatmap\n",
    "plt.figure(figsize=(6, 5))\n",
    "sns.heatmap(cm, annot=True, fmt=\"d\", cmap=\"Blues\", xticklabels=[\"negative\", \"positive\"], yticklabels=[\"negative\", \"positive\"])\n",
    "plt.xlabel('Predicted')\n",
    "plt.ylabel('True')\n",
    "plt.title('Confusion Matrix')\n",
    "plt.show()\n"
   ]
  },
  {
   "cell_type": "code",
   "execution_count": 29,
   "id": "cf2812e8-531f-4fc7-8a34-ce38081110c8",
   "metadata": {},
   "outputs": [
    {
     "name": "stdout",
     "output_type": "stream",
     "text": [
      "Model and vectorizer saved successfully!\n"
     ]
    }
   ],
   "source": [
    "import joblib\n",
    "\n",
    "# Save the trained model\n",
    "joblib.dump(model, 'sentiment_model.pkl')\n",
    "\n",
    "# Save the TF-IDF vectorizer\n",
    "joblib.dump(vectorizer, 'tfidf_vectorizer.pkl')\n",
    "\n",
    "print(\"Model and vectorizer saved successfully!\")\n",
    "\n"
   ]
  },
  {
   "cell_type": "code",
   "execution_count": 30,
   "id": "4dd9b1e4-2378-4573-84bf-686572fa3692",
   "metadata": {},
   "outputs": [
    {
     "name": "stdout",
     "output_type": "stream",
     "text": [
      "C:\\Users\\Acer\n"
     ]
    }
   ],
   "source": [
    "import os\n",
    "print(os.getcwd())\n"
   ]
  },
  {
   "cell_type": "code",
   "execution_count": 2,
   "id": "b54797ac",
   "metadata": {},
   "outputs": [
    {
     "name": "stdout",
     "output_type": "stream",
     "text": [
      "                                            sentence sentiment\n",
      "0  So there is no way for me to plug it in here i...  negative\n",
      "1                        Good case, Excellent value.  positive\n",
      "2                             Great for the jawbone.  positive\n",
      "3  Tied to charger for conversations lasting more...  negative\n",
      "4                                  The mic is great.  positive\n"
     ]
    }
   ],
   "source": [
    "import pandas as pd\n",
    "\n",
    "# Load the dataset\n",
    "df = pd.read_csv(\"C:/Users/Acer/Desktop/Sentiment Analysis Web App/archive/combined_sentiment_data.csv\")\n",
    "\n",
    "# Print the first few rows to confirm it is loaded correctly\n",
    "print(df.head())\n"
   ]
  },
  {
   "cell_type": "code",
   "execution_count": 3,
   "id": "91340400",
   "metadata": {},
   "outputs": [
    {
     "name": "stdout",
     "output_type": "stream",
     "text": [
      "Class distribution in the dataset:\n",
      "positive    1679\n",
      "negative    1630\n",
      "Name: sentiment, dtype: int64\n"
     ]
    }
   ],
   "source": [
    "print(\"Class distribution in the dataset:\")\n",
    "print(df['sentiment'].value_counts())  # Replace 'label' with the actual column name if it's different\n"
   ]
  },
  {
   "cell_type": "code",
   "execution_count": 7,
   "id": "0c5c5ae3",
   "metadata": {},
   "outputs": [
    {
     "name": "stdout",
     "output_type": "stream",
     "text": [
      "Index(['sentence', 'sentiment'], dtype='object')\n"
     ]
    }
   ],
   "source": [
    "print(df.columns)\n"
   ]
  },
  {
   "cell_type": "code",
   "execution_count": 8,
   "id": "e4558f33",
   "metadata": {},
   "outputs": [],
   "source": [
    "# Drop rows with missing labels\n",
    "df = df.dropna(subset=['sentiment'])\n",
    "\n",
    "# Convert labels to numeric (if necessary)\n",
    "df['sentiment'] = df['sentiment'].map({'negative': 0, 'positive': 1})\n",
    "\n",
    "# Define the features (X) and labels (y)\n",
    "X = df['sentence']  # Assuming 'text' is the column containing the reviews\n",
    "y = df['sentiment']\n"
   ]
  },
  {
   "cell_type": "code",
   "execution_count": 9,
   "id": "61281bd6",
   "metadata": {},
   "outputs": [],
   "source": [
    "from sklearn.model_selection import train_test_split\n",
    "\n",
    "X_train, X_test, y_train, y_test = train_test_split(X, y, test_size=0.2, random_state=42)\n"
   ]
  },
  {
   "cell_type": "code",
   "execution_count": 10,
   "id": "c7277ea7",
   "metadata": {},
   "outputs": [],
   "source": [
    "from sklearn.feature_extraction.text import TfidfVectorizer\n",
    "\n",
    "vectorizer = TfidfVectorizer(stop_words='english', max_features=5000)\n",
    "X_train_vect = vectorizer.fit_transform(X_train)\n",
    "X_test_vect = vectorizer.transform(X_test)\n"
   ]
  },
  {
   "cell_type": "code",
   "execution_count": 14,
   "id": "bfc9abf0",
   "metadata": {},
   "outputs": [
    {
     "name": "stdout",
     "output_type": "stream",
     "text": [
      "0\n",
      "0\n"
     ]
    }
   ],
   "source": [
    "# Check how many non-null sentiment values are present\n",
    "print(df['sentiment'].isnull().sum())  # Should be the number of missing labels\n",
    "print(df['sentiment'].notnull().sum())  # Should show the number of available non-null labels\n"
   ]
  },
  {
   "cell_type": "code",
   "execution_count": 15,
   "id": "958911c6",
   "metadata": {},
   "outputs": [
    {
     "name": "stdout",
     "output_type": "stream",
     "text": [
      "Empty DataFrame\n",
      "Columns: [sentence, sentiment]\n",
      "Index: []\n"
     ]
    }
   ],
   "source": [
    "print(df.head())  # Check the first few rows to see the data\n"
   ]
  },
  {
   "cell_type": "code",
   "execution_count": 16,
   "id": "5dc0898f",
   "metadata": {},
   "outputs": [],
   "source": [
    "# Filling missing sentiment values with a default label\n",
    "df['sentiment'].fillna('positive', inplace=True)  # Or 'negative' as the default label\n"
   ]
  },
  {
   "cell_type": "code",
   "execution_count": 19,
   "id": "30987d1e",
   "metadata": {},
   "outputs": [
    {
     "name": "stdout",
     "output_type": "stream",
     "text": [
      "                                            sentence sentiment\n",
      "0  So there is no way for me to plug it in here i...  negative\n",
      "1                        Good case, Excellent value.  positive\n",
      "2                             Great for the jawbone.  positive\n",
      "3  Tied to charger for conversations lasting more...  negative\n",
      "4                                  The mic is great.  positive\n"
     ]
    }
   ],
   "source": [
    "import pandas as pd\n",
    "\n",
    "# Check if the dataset is loading properly\n",
    "file_path = \"C:\\\\Users\\\\Acer\\\\Desktop\\\\Sentiment Analysis Web App\\\\archive\\\\combined_sentiment_data.csv\"\n",
    "df = pd.read_csv(file_path)\n",
    "\n",
    "# Check the first few rows of the dataset\n",
    "print(df.head())\n"
   ]
  },
  {
   "cell_type": "code",
   "execution_count": 20,
   "id": "d88fb34d",
   "metadata": {},
   "outputs": [],
   "source": [
    "from sklearn.model_selection import train_test_split\n",
    "\n",
    "X = df['sentence']\n",
    "y = df['sentiment']\n",
    "\n",
    "# Split the data into training and test sets\n",
    "X_train, X_test, y_train, y_test = train_test_split(X, y, test_size=0.2, random_state=42)\n"
   ]
  },
  {
   "cell_type": "code",
   "execution_count": 21,
   "id": "c3fca6be",
   "metadata": {},
   "outputs": [],
   "source": [
    "from sklearn.feature_extraction.text import TfidfVectorizer\n",
    "\n",
    "# Vectorize the text data\n",
    "vectorizer = TfidfVectorizer()\n",
    "X_train_vect = vectorizer.fit_transform(X_train)\n",
    "X_test_vect = vectorizer.transform(X_test)\n",
    "\n",
    "from sklearn.linear_model import LogisticRegression\n",
    "\n",
    "# Train the model\n",
    "model = LogisticRegression()\n",
    "model.fit(X_train_vect, y_train)\n",
    "\n",
    "# Evaluate the model\n",
    "y_pred = model.predict(X_test_vect)\n"
   ]
  },
  {
   "cell_type": "code",
   "execution_count": 22,
   "id": "ce89bcba",
   "metadata": {},
   "outputs": [
    {
     "name": "stdout",
     "output_type": "stream",
     "text": [
      "Accuracy: 0.8202\n",
      "Classification Report:\n",
      "              precision    recall  f1-score   support\n",
      "\n",
      "    negative       0.84      0.80      0.82       334\n",
      "    positive       0.80      0.84      0.82       328\n",
      "\n",
      "    accuracy                           0.82       662\n",
      "   macro avg       0.82      0.82      0.82       662\n",
      "weighted avg       0.82      0.82      0.82       662\n",
      "\n"
     ]
    },
    {
     "data": {
      "image/png": "[encoded data removed]",
      "text/plain": [
       "<Figure size 800x600 with 2 Axes>"
      ]
     },
     "metadata": {},
     "output_type": "display_data"
    }
   ],
   "source": [
    "from sklearn.metrics import accuracy_score, classification_report, confusion_matrix\n",
    "import seaborn as sns\n",
    "import matplotlib.pyplot as plt\n",
    "\n",
    "# Predict the sentiments on the test data\n",
    "y_pred = model.predict(X_test_vect)\n",
    "\n",
    "# Calculate accuracy score\n",
    "accuracy = accuracy_score(y_test, y_pred)\n",
    "print(f\"Accuracy: {accuracy:.4f}\")\n",
    "\n",
    "# Display the classification report\n",
    "print(\"Classification Report:\")\n",
    "print(classification_report(y_test, y_pred))\n",
    "\n",
    "# Generate a confusion matrix\n",
    "conf_matrix = confusion_matrix(y_test, y_pred)\n",
    "\n",
    "# Visualize the confusion matrix\n",
    "plt.figure(figsize=(8,6))\n",
    "sns.heatmap(conf_matrix, annot=True, fmt=\"d\", cmap=\"Blues\", xticklabels=[\"Negative\", \"Positive\"], yticklabels=[\"Negative\", \"Positive\"])\n",
    "plt.xlabel(\"Predicted\")\n",
    "plt.ylabel(\"Actual\")\n",
    "plt.title(\"Confusion Matrix\")\n",
    "plt.show()\n"
   ]
  },
  {
   "cell_type": "code",
   "execution_count": 23,
   "id": "dc1ecc82",
   "metadata": {},
   "outputs": [
    {
     "data": {
      "text/plain": [
       "['tfidf_vectorizer.pkl']"
      ]
     },
     "execution_count": 23,
     "metadata": {},
     "output_type": "execute_result"
    }
   ],
   "source": [
    "import joblib\n",
    "\n",
    "# Save the trained model\n",
    "joblib.dump(model, 'sentiment_model.pkl')\n",
    "\n",
    "# Save the TF-IDF vectorizer\n",
    "joblib.dump(vectorizer, 'tfidf_vectorizer.pkl')\n"
   ]
  },
  {
   "cell_type": "code",
   "execution_count": 24,
   "id": "b47b6cfb",
   "metadata": {},
   "outputs": [],
   "source": [
    "from sklearn.model_selection import train_test_split\n",
    "\n",
    "# Stratified split ensures that the distribution of classes in train and test sets is similar\n",
    "X_train, X_test, y_train, y_test = train_test_split(X, y, test_size=0.2, random_state=42, stratify=y)\n"
   ]
  },
  {
   "cell_type": "code",
   "execution_count": 25,
   "id": "8b83aa62",
   "metadata": {},
   "outputs": [
    {
     "name": "stderr",
     "output_type": "stream",
     "text": [
      "[nltk_data] Downloading package stopwords to\n",
      "[nltk_data]     C:\\Users\\Acer\\AppData\\Roaming\\nltk_data...\n",
      "[nltk_data]   Package stopwords is already up-to-date!\n",
      "[nltk_data] Downloading package punkt to\n",
      "[nltk_data]     C:\\Users\\Acer\\AppData\\Roaming\\nltk_data...\n",
      "[nltk_data]   Package punkt is already up-to-date!\n",
      "[nltk_data] Downloading package wordnet to\n",
      "[nltk_data]     C:\\Users\\Acer\\AppData\\Roaming\\nltk_data...\n",
      "[nltk_data]   Package wordnet is already up-to-date!\n"
     ]
    }
   ],
   "source": [
    "import nltk\n",
    "from nltk.corpus import stopwords\n",
    "from nltk.stem import WordNetLemmatizer\n",
    "import string\n",
    "\n",
    "# Ensure you have the necessary resources\n",
    "nltk.download('stopwords')\n",
    "nltk.download('punkt')\n",
    "nltk.download('wordnet')\n",
    "\n",
    "# Initialize lemmatizer\n",
    "lemmatizer = WordNetLemmatizer()\n",
    "\n",
    "# Preprocess text function\n",
    "def preprocess_text(text):\n",
    "    text = text.lower()  # Convert to lowercase\n",
    "    text = ''.join([char for char in text if char not in string.punctuation])  # Remove punctuation\n",
    "    words = nltk.word_tokenize(text)  # Tokenize text\n",
    "    words = [lemmatizer.lemmatize(word) for word in words if word not in stopwords.words('english')]  # Lemmatization and stopword removal\n",
    "    return ' '.join(words)\n",
    "\n",
    "# Apply preprocessing to the dataset\n",
    "df['sentence'] = df['sentence'].apply(preprocess_text)\n"
   ]
  },
  {
   "cell_type": "code",
   "execution_count": 34,
   "id": "aaedbe58",
   "metadata": {},
   "outputs": [
    {
     "name": "stdout",
     "output_type": "stream",
     "text": [
      "negative\n",
      "negative\n"
     ]
    }
   ],
   "source": [
    "import joblib\n",
    "from sklearn.feature_extraction.text import TfidfVectorizer\n",
    "\n",
    "# Load the saved model and vectorizer\n",
    "model = joblib.load('sentiment_model.pkl')  # Replace with your actual model filename\n",
    "vectorizer = joblib.load('tfidf_vectorizer.pkl')  # Replace with your actual vectorizer filename\n",
    "\n",
    "def preprocess_text(text):\n",
    "    # You can add any text preprocessing steps you want here (e.g., lowercasing, removing punctuation)\n",
    "    return text.lower()\n",
    "\n",
    "def predict_sentiment(text):\n",
    "    # Preprocess the input text\n",
    "    text = preprocess_text(text)\n",
    "    \n",
    "    # Vectorize the input text using the saved vectorizer\n",
    "    text_vectorized = vectorizer.transform([text])\n",
    "    \n",
    "    # Predict sentiment using the loaded model\n",
    "    prediction = model.predict(text_vectorized)\n",
    "    \n",
    "    # Convert prediction to human-readable label\n",
    "    sentiment = 'positive' if prediction == 1 else 'negative'\n",
    "    return sentiment\n",
    "\n",
    "# Example usage\n",
    "print(predict_sentiment(\"I am happy\"))  # Should print 'positive'\n",
    "print(predict_sentiment(\"This is a terrible experience\"))  # Should print 'negative'\n"
   ]
  },
  {
   "cell_type": "code",
   "execution_count": 35,
   "id": "bc385178",
   "metadata": {},
   "outputs": [
    {
     "name": "stdout",
     "output_type": "stream",
     "text": [
      "Sentence: 'I am happy' - Predicted sentiment: negative\n",
      "Sentence: 'This is a terrible experience' - Predicted sentiment: negative\n",
      "Sentence: 'I love this product' - Predicted sentiment: negative\n",
      "Sentence: 'I hate waiting for things' - Predicted sentiment: negative\n",
      "Sentence: 'The movie was great!' - Predicted sentiment: negative\n",
      "Sentence: 'This is the worst decision ever!' - Predicted sentiment: negative\n"
     ]
    }
   ],
   "source": [
    "def preprocess_text(text):\n",
    "    # Preprocess the text (e.g., lowercasing, removing unwanted characters, etc.)\n",
    "    return text.lower()  # Make sure to match the preprocessing done during training\n",
    "\n",
    "# Test with multiple sentences to check consistency\n",
    "test_sentences = [\n",
    "    \"I am happy\",\n",
    "    \"This is a terrible experience\",\n",
    "    \"I love this product\",\n",
    "    \"I hate waiting for things\",\n",
    "    \"The movie was great!\",\n",
    "    \"This is the worst decision ever!\"\n",
    "]\n",
    "\n",
    "# Get predictions for all test sentences\n",
    "for sentence in test_sentences:\n",
    "    sentiment = predict_sentiment(sentence)\n",
    "    print(f\"Sentence: '{sentence}' - Predicted sentiment: {sentiment}\")\n"
   ]
  },
  {
   "cell_type": "code",
   "execution_count": 36,
   "id": "35fe2909",
   "metadata": {},
   "outputs": [
    {
     "name": "stdout",
     "output_type": "stream",
     "text": [
      "positive    1679\n",
      "negative    1630\n",
      "Name: sentiment, dtype: int64\n"
     ]
    }
   ],
   "source": [
    "print(df['sentiment'].value_counts())  # Check the sentiment distribution\n"
   ]
  },
  {
   "cell_type": "code",
   "execution_count": 38,
   "id": "378a2c45",
   "metadata": {},
   "outputs": [
    {
     "name": "stdout",
     "output_type": "stream",
     "text": [
      "Classification Report:\n",
      "               precision    recall  f1-score   support\n",
      "\n",
      "    negative       0.82      0.79      0.81       326\n",
      "    positive       0.81      0.84      0.82       336\n",
      "\n",
      "    accuracy                           0.82       662\n",
      "   macro avg       0.82      0.82      0.82       662\n",
      "weighted avg       0.82      0.82      0.82       662\n",
      "\n"
     ]
    }
   ],
   "source": [
    "from sklearn.feature_extraction.text import TfidfVectorizer\n",
    "\n",
    "# Assuming you already have a list of sentences in X (the training data)\n",
    "# Step 1: Fit the TfidfVectorizer on the training data\n",
    "vectorizer = TfidfVectorizer(stop_words='english')\n",
    "X_train_vect = vectorizer.fit_transform(X_train)\n",
    "\n",
    "# Step 2: Transform the test data using the fitted vectorizer\n",
    "X_test_vect = vectorizer.transform(X_test)\n",
    "\n",
    "# Now you can train your model as usual\n",
    "model = LogisticRegression()\n",
    "model.fit(X_train_vect, y_train)\n",
    "\n",
    "# Predict on test data\n",
    "y_pred = model.predict(X_test_vect)\n",
    "\n",
    "# Evaluate the model\n",
    "from sklearn.metrics import classification_report\n",
    "print(\"Classification Report:\\n\", classification_report(y_test, y_pred))\n"
   ]
  },
  {
   "cell_type": "code",
   "execution_count": 39,
   "id": "bf82342f",
   "metadata": {},
   "outputs": [
    {
     "name": "stdout",
     "output_type": "stream",
     "text": [
      "Predicted sentiment: negative\n"
     ]
    }
   ],
   "source": [
    "# Example sentence to predict\n",
    "test_text = \"I am happy\"\n",
    "\n",
    "# Preprocess the text (you should have this in the preprocessing function)\n",
    "test_text_processed = preprocess_text(test_text)\n",
    "\n",
    "# Transform the preprocessed text using the fitted vectorizer\n",
    "test_vectorized = vectorizer.transform([test_text_processed])\n",
    "\n",
    "# Predict sentiment using the trained model\n",
    "prediction = model.predict(test_vectorized)\n",
    "print(\"Predicted sentiment:\", \"positive\" if prediction == 1 else \"negative\")\n"
   ]
  },
  {
   "cell_type": "code",
   "execution_count": 40,
   "id": "69ea8aff",
   "metadata": {},
   "outputs": [
    {
     "name": "stdout",
     "output_type": "stream",
     "text": [
      "positive    1679\n",
      "negative    1630\n",
      "Name: sentiment, dtype: int64\n"
     ]
    }
   ],
   "source": [
    "import pandas as pd\n",
    "\n",
    "# Load the data\n",
    "df = pd.read_csv(r'C:\\Users\\Acer\\Desktop\\Sentiment Analysis Web App\\archive\\combined_sentiment_data.csv')\n",
    "\n",
    "# Check the distribution of sentiments\n",
    "print(df['sentiment'].value_counts())\n"
   ]
  },
  {
   "cell_type": "code",
   "execution_count": 41,
   "id": "c8c23cd9",
   "metadata": {},
   "outputs": [
    {
     "name": "stdout",
     "output_type": "stream",
     "text": [
      "Random Forest Accuracy: 0.7688821752265861\n",
      "Classification Report:\n",
      "               precision    recall  f1-score   support\n",
      "\n",
      "    negative       0.75      0.79      0.77       326\n",
      "    positive       0.79      0.74      0.77       336\n",
      "\n",
      "    accuracy                           0.77       662\n",
      "   macro avg       0.77      0.77      0.77       662\n",
      "weighted avg       0.77      0.77      0.77       662\n",
      "\n"
     ]
    }
   ],
   "source": [
    "from sklearn.ensemble import RandomForestClassifier\n",
    "from sklearn.metrics import accuracy_score, classification_report\n",
    "\n",
    "# Train a Random Forest classifier\n",
    "model_rf = RandomForestClassifier(random_state=42)\n",
    "model_rf.fit(X_train_vect, y_train)\n",
    "\n",
    "# Make predictions\n",
    "y_pred_rf = model_rf.predict(X_test_vect)\n",
    "\n",
    "# Evaluate the model\n",
    "accuracy = accuracy_score(y_test, y_pred_rf)\n",
    "print(f\"Random Forest Accuracy: {accuracy}\")\n",
    "print(\"Classification Report:\\n\", classification_report(y_test, y_pred_rf))\n"
   ]
  },
  {
   "cell_type": "code",
   "execution_count": 42,
   "id": "0b0143e2",
   "metadata": {},
   "outputs": [
    {
     "name": "stdout",
     "output_type": "stream",
     "text": [
      "Naive Bayes Accuracy: 0.8066465256797583\n",
      "Classification Report:\n",
      "               precision    recall  f1-score   support\n",
      "\n",
      "    negative       0.84      0.75      0.79       326\n",
      "    positive       0.78      0.86      0.82       336\n",
      "\n",
      "    accuracy                           0.81       662\n",
      "   macro avg       0.81      0.81      0.81       662\n",
      "weighted avg       0.81      0.81      0.81       662\n",
      "\n"
     ]
    }
   ],
   "source": [
    "from sklearn.naive_bayes import MultinomialNB\n",
    "\n",
    "model_nb = MultinomialNB()\n",
    "model_nb.fit(X_train_vect, y_train)\n",
    "\n",
    "y_pred_nb = model_nb.predict(X_test_vect)\n",
    "print(f\"Naive Bayes Accuracy: {accuracy_score(y_test, y_pred_nb)}\")\n",
    "print(\"Classification Report:\\n\", classification_report(y_test, y_pred_nb))\n"
   ]
  },
  {
   "cell_type": "code",
   "execution_count": 44,
   "id": "761e549a",
   "metadata": {},
   "outputs": [
    {
     "data": {
      "text/plain": [
       "['model_analysis.pkl']"
      ]
     },
     "execution_count": 44,
     "metadata": {},
     "output_type": "execute_result"
    }
   ],
   "source": [
    "import joblib\n",
    "\n",
    "# Assuming you have trained a model, for example, 'model' (replace 'model' with your actual model object)\n",
    "joblib.dump(model, 'model_analysis.pkl')  # Save model as a .pkl file\n"
   ]
  },
  {
   "cell_type": "code",
   "execution_count": 45,
   "id": "19ce3ea8",
   "metadata": {},
   "outputs": [],
   "source": [
    "# Load the model when needed\n",
    "loaded_model = joblib.load('model_analysis.pkl')\n"
   ]
  },
  {
   "cell_type": "code",
   "execution_count": 46,
   "id": "32e083da",
   "metadata": {},
   "outputs": [],
   "source": [
    "import pickle\n",
    "\n",
    "# Assuming you have trained a model, for example, 'model' (replace 'model' with your actual model object)\n",
    "with open('model_analysis.pkl', 'wb') as f:\n",
    "    pickle.dump(model, f)\n"
   ]
  },
  {
   "cell_type": "code",
   "execution_count": 47,
   "id": "fe8192a0",
   "metadata": {},
   "outputs": [],
   "source": [
    "# Load the model when needed\n",
    "with open('model_analysis.pkl', 'rb') as f:\n",
    "    loaded_model = pickle.load(f)\n"
   ]
  },
  {
   "cell_type": "code",
   "execution_count": 48,
   "id": "2a469501",
   "metadata": {},
   "outputs": [],
   "source": [
    "# Save the TF-IDF vectorizer\n",
    "joblib.dump(vectorizer, 'tfidf_vectorizer.pkl')  # Save vectorizer\n",
    "\n",
    "# Load the vectorizer when needed\n",
    "loaded_vectorizer = joblib.load('tfidf_vectorizer.pkl')\n"
   ]
  },
  {
   "cell_type": "code",
   "execution_count": 49,
   "id": "41871d31",
   "metadata": {},
   "outputs": [
    {
     "data": {
      "text/plain": [
       "['model_analysis.pkl']"
      ]
     },
     "execution_count": 49,
     "metadata": {},
     "output_type": "execute_result"
    }
   ],
   "source": [
    "import joblib\n",
    "\n",
    "# Assuming you have trained a model, for example, 'model' (replace 'model' with your actual model object)\n",
    "joblib.dump(model, 'model_analysis.pkl')  # Save model as a .pkl file\n"
   ]
  },
  {
   "cell_type": "code",
   "execution_count": 50,
   "id": "00f33dd2",
   "metadata": {},
   "outputs": [],
   "source": [
    "import joblib\n",
    "\n",
    "# Load the saved model and vectorizer\n",
    "model = joblib.load('model_analysis.pkl')  # Replace with your model file name\n",
    "vectorizer = joblib.load('tfidf_vectorizer.pkl')  # Replace with your vectorizer file name\n"
   ]
  },
  {
   "cell_type": "code",
   "execution_count": 51,
   "id": "82baa7b6",
   "metadata": {},
   "outputs": [],
   "source": [
    "def preprocess_text(text):\n",
    "    # Add any preprocessing steps (lowercase, stopwords removal, etc.)\n",
    "    text = text.lower()  # Example: Convert text to lowercase\n",
    "    return text\n",
    "\n",
    "# Example input\n",
    "new_text = \"I am feeling great today!\"\n",
    "\n",
    "# Preprocess the new input\n",
    "processed_text = preprocess_text(new_text)\n",
    "\n",
    "# Vectorize the preprocessed text\n",
    "text_vectorized = vectorizer.transform([processed_text])\n"
   ]
  },
  {
   "cell_type": "code",
   "execution_count": 52,
   "id": "86508489",
   "metadata": {},
   "outputs": [
    {
     "name": "stdout",
     "output_type": "stream",
     "text": [
      "Predicted sentiment: negative\n"
     ]
    }
   ],
   "source": [
    "# Predict sentiment using the loaded model\n",
    "prediction = model.predict(text_vectorized)\n",
    "\n",
    "# Output the prediction result\n",
    "sentiment = 'positive' if prediction == 1 else 'negative'\n",
    "print(f\"Predicted sentiment: {sentiment}\")\n"
   ]
  },
  {
   "cell_type": "code",
   "execution_count": 53,
   "id": "b4e58a94",
   "metadata": {},
   "outputs": [
    {
     "name": "stdout",
     "output_type": "stream",
     "text": [
      "negative\n"
     ]
    }
   ],
   "source": [
    "def predict_sentiment(text):\n",
    "    # Preprocess and vectorize the text\n",
    "    processed_text = preprocess_text(text)\n",
    "    text_vectorized = vectorizer.transform([processed_text])\n",
    "    \n",
    "    # Predict sentiment\n",
    "    prediction = model.predict(text_vectorized)\n",
    "    \n",
    "    # Return the sentiment result\n",
    "    sentiment = 'positive' if prediction == 1 else 'negative'\n",
    "    return sentiment\n",
    "\n",
    "# Example usage\n",
    "new_sentence = \"This product is amazing!\"\n",
    "print(predict_sentiment(new_sentence))  # It will print \"positive\" or \"negative\"\n"
   ]
  },
  {
   "cell_type": "code",
   "execution_count": 54,
   "id": "a45b2129",
   "metadata": {},
   "outputs": [
    {
     "name": "stdout",
     "output_type": "stream",
     "text": [
      "happy product\n"
     ]
    },
    {
     "name": "stderr",
     "output_type": "stream",
     "text": [
      "[nltk_data] Downloading package stopwords to\n",
      "[nltk_data]     C:\\Users\\Acer\\AppData\\Roaming\\nltk_data...\n",
      "[nltk_data]   Package stopwords is already up-to-date!\n"
     ]
    }
   ],
   "source": [
    "from sklearn.feature_extraction.text import TfidfVectorizer\n",
    "from sklearn.model_selection import train_test_split\n",
    "import re\n",
    "import nltk\n",
    "from nltk.corpus import stopwords\n",
    "nltk.download('stopwords')\n",
    "\n",
    "# Preprocessing function to clean text data\n",
    "def preprocess_text(text):\n",
    "    # Remove non-alphabetic characters and lowercase\n",
    "    text = re.sub(r'[^a-zA-Z\\s]', '', text)\n",
    "    text = text.lower()\n",
    "    # Tokenize and remove stopwords\n",
    "    stop_words = set(stopwords.words('english'))\n",
    "    words = text.split()\n",
    "    words = [word for word in words if word not in stop_words]\n",
    "    return \" \".join(words)\n",
    "\n",
    "# Example usage of preprocess_text function\n",
    "sample_text = \"I am so happy with this product!\"\n",
    "preprocessed_text = preprocess_text(sample_text)\n",
    "print(preprocessed_text)\n"
   ]
  },
  {
   "cell_type": "code",
   "execution_count": 55,
   "id": "e577848b",
   "metadata": {},
   "outputs": [],
   "source": [
    "# Assuming 'df' is your DataFrame\n",
    "X = df['sentence'].apply(preprocess_text)  # Apply preprocessing\n",
    "y = df['sentiment']\n",
    "\n",
    "# Split the data into training and testing sets\n",
    "X_train, X_test, y_train, y_test = train_test_split(X, y, test_size=0.2, random_state=42)\n"
   ]
  },
  {
   "cell_type": "code",
   "execution_count": null,
   "id": "2ef4a4d8",
   "metadata": {},
   "outputs": [],
   "source": [
    "import pandas as pd\n",
    "\n",
    "# Load your dataset\n",
    "df = pd.read_csv(r\"C:\\Users\\Acer\\Desktop\\Sentiment Analysis Web App\\archive\\combined_sentiment_data.csv\")\n",
    "\n",
    "# Check the first few rows of the data to confirm it's loaded correctly\n",
    "print(df.head())\n"
   ]
  },
  {
   "cell_type": "code",
   "execution_count": null,
   "id": "f5e61a3e",
   "metadata": {},
   "outputs": [],
   "source": []
  }
 ],
 "metadata": {
  "kernelspec": {
   "display_name": "Python 3 (ipykernel)",
   "language": "python",
   "name": "python3"
  },
  "language_info": {
   "codemirror_mode": {
    "name": "ipython",
    "version": 3
   },
   "file_extension": ".py",
   "mimetype": "text/x-python",
   "name": "python",
   "nbconvert_exporter": "python",
   "pygments_lexer": "ipython3",
   "version": "3.10.9"
  }
 },
 "nbformat": 4,
 "nbformat_minor": 5
}
