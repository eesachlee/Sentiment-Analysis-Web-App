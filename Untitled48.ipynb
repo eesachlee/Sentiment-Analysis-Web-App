{
 "cells": [
  {
   "cell_type": "code",
   "execution_count": 36,
   "id": "d048eddf-a47a-4d84-8564-e675af34dd97",
   "metadata": {},
   "outputs": [
    {
     "name": "stdout",
     "output_type": "stream",
     "text": [
      "                                                Text Sentiment\n",
      "0                    The staff were polite but slow.   Neutral\n",
      "1  I fell asleep halfway through the film; it was...  Negative\n",
      "2            The park was clean and well-maintained.  Positive\n",
      "3             This phone has excellent battery life!  Positive\n",
      "4           The headphones are decent for the price.   Neutral\n"
     ]
    }
   ],
   "source": [
    "import pandas as pd\n",
    "\n",
    "# Load the dataset from the Excel file\n",
    "file_path = \"C:/Users/Acer/Desktop/Sentiment Analysis Web App/sentiment_dataset.xlsx\"\n",
    "df = pd.read_excel(file_path)\n",
    "\n",
    "# Inspect the first few rows of the dataset\n",
    "print(df.head())\n"
   ]
  },
  {
   "cell_type": "code",
   "execution_count": 37,
   "id": "b7eafe00-2f46-415e-8f4d-91de26234516",
   "metadata": {},
   "outputs": [
    {
     "name": "stderr",
     "output_type": "stream",
     "text": [
      "[nltk_data] Downloading package stopwords to\n",
      "[nltk_data]     C:\\Users\\Acer\\AppData\\Roaming\\nltk_data...\n",
      "[nltk_data]   Package stopwords is already up-to-date!\n"
     ]
    }
   ],
   "source": [
    "import re\n",
    "import nltk\n",
    "from nltk.corpus import stopwords\n",
    "from sklearn.model_selection import train_test_split\n",
    "from sklearn.feature_extraction.text import TfidfVectorizer\n",
    "\n",
    "# Download stopwords\n",
    "nltk.download('stopwords')\n",
    "\n",
    "# Preprocessing function\n",
    "def preprocess_text(text):\n",
    "    # Lowercase the text\n",
    "    text = text.lower()\n",
    "    # Remove punctuation and special characters\n",
    "    text = re.sub(r'[^\\w\\s]', '', text)\n",
    "    # Remove stopwords\n",
    "    stop_words = set(stopwords.words('english'))\n",
    "    text = ' '.join([word for word in text.split() if word not in stop_words])\n",
    "    return text\n",
    "\n",
    "# Apply preprocessing to the 'Text' column\n",
    "df['Processed_Text'] = df['Text'].apply(preprocess_text)\n",
    "\n",
    "# Split the dataset into features (X) and labels (y)\n",
    "X = df['Processed_Text']\n",
    "y = df['Sentiment']\n",
    "\n",
    "# Split the data into training and testing sets (80% train, 20% test)\n",
    "X_train, X_test, y_train, y_test = train_test_split(X, y, test_size=0.2, random_state=42)\n"
   ]
  },
  {
   "cell_type": "code",
   "execution_count": 38,
   "id": "f379f9e3-d068-4671-a7df-77fb6097b980",
   "metadata": {},
   "outputs": [],
   "source": [
    "# Initialize the TF-IDF Vectorizer\n",
    "vectorizer = TfidfVectorizer(max_features=5000)\n",
    "\n",
    "# Fit and transform the training data, and transform the test data\n",
    "X_train_tfidf = vectorizer.fit_transform(X_train)\n",
    "X_test_tfidf = vectorizer.transform(X_test)\n"
   ]
  },
  {
   "cell_type": "code",
   "execution_count": 39,
   "id": "f552dc66-8f76-42d6-ab1a-dff065c569be",
   "metadata": {},
   "outputs": [
    {
     "name": "stdout",
     "output_type": "stream",
     "text": [
      "Accuracy: 0.8686131386861314\n",
      "Classification Report:\n",
      "              precision    recall  f1-score   support\n",
      "\n",
      "    Negative       1.00      1.00      1.00        27\n",
      "     Neutral       1.00      1.00      1.00         8\n",
      "    Positive       0.96      1.00      0.98        24\n",
      "    negative       0.71      0.77      0.74        31\n",
      "    positive       0.84      0.77      0.80        47\n",
      "\n",
      "    accuracy                           0.87       137\n",
      "   macro avg       0.90      0.91      0.90       137\n",
      "weighted avg       0.87      0.87      0.87       137\n",
      "\n",
      "Confusion Matrix:\n",
      "[[27  0  0  0  0]\n",
      " [ 0  8  0  0  0]\n",
      " [ 0  0 24  0  0]\n",
      " [ 0  0  0 24  7]\n",
      " [ 0  0  1 10 36]]\n"
     ]
    }
   ],
   "source": [
    "from sklearn.linear_model import LogisticRegression\n",
    "from sklearn.metrics import accuracy_score, classification_report, confusion_matrix\n",
    "\n",
    "# Initialize the Logistic Regression model\n",
    "model = LogisticRegression(max_iter=1000)\n",
    "\n",
    "# Train the model\n",
    "model.fit(X_train_tfidf, y_train)\n",
    "\n",
    "# Make predictions on the test set\n",
    "y_pred = model.predict(X_test_tfidf)\n",
    "\n",
    "# Evaluate the model\n",
    "accuracy = accuracy_score(y_test, y_pred)\n",
    "print(f\"Accuracy: {accuracy}\")\n",
    "print(\"Classification Report:\")\n",
    "print(classification_report(y_test, y_pred))\n",
    "print(\"Confusion Matrix:\")\n",
    "print(confusion_matrix(y_test, y_pred))\n"
   ]
  },
  {
   "cell_type": "code",
   "execution_count": 40,
   "id": "5788a6d8-776a-4f4a-8446-613f04df7e7e",
   "metadata": {},
   "outputs": [
    {
     "name": "stderr",
     "output_type": "stream",
     "text": [
      "[nltk_data] Downloading package stopwords to\n",
      "[nltk_data]     C:\\Users\\Acer\\AppData\\Roaming\\nltk_data...\n",
      "[nltk_data]   Package stopwords is already up-to-date!\n"
     ]
    }
   ],
   "source": [
    "import spacy\n",
    "import nltk\n",
    "import re\n",
    "from nltk.corpus import stopwords\n",
    "\n",
    "# Download stopwords and spacy model\n",
    "nltk.download('stopwords')\n",
    "nlp = spacy.load('en_core_web_sm')\n",
    "\n",
    "# Preprocessing function with lemmatization and stopword removal\n",
    "def preprocess_text(text):\n",
    "    # Lowercase the text\n",
    "    text = text.lower()\n",
    "    # Remove punctuation and special characters\n",
    "    text = re.sub(r'[^\\w\\s]', '', text)\n",
    "    # Lemmatize and remove stopwords\n",
    "    doc = nlp(text)\n",
    "    text = ' '.join([token.lemma_ for token in doc if token.text not in stopwords.words('english') and not token.is_stop])\n",
    "    return text\n",
    "\n",
    "# Apply preprocessing to the 'Text' column\n",
    "df['Processed_Text'] = df['Text'].apply(preprocess_text)\n"
   ]
  },
  {
   "cell_type": "code",
   "execution_count": 41,
   "id": "0f98f884-ab11-4504-9bfc-1f3deb939e12",
   "metadata": {},
   "outputs": [
    {
     "name": "stdout",
     "output_type": "stream",
     "text": [
      "Accuracy (Random Forest): 0.8686131386861314\n",
      "Classification Report (Random Forest):\n",
      "              precision    recall  f1-score   support\n",
      "\n",
      "    Negative       1.00      1.00      1.00        27\n",
      "     Neutral       1.00      1.00      1.00         8\n",
      "    Positive       1.00      1.00      1.00        24\n",
      "    negative       0.66      0.87      0.75        31\n",
      "    positive       0.89      0.70      0.79        47\n",
      "\n",
      "    accuracy                           0.87       137\n",
      "   macro avg       0.91      0.91      0.91       137\n",
      "weighted avg       0.89      0.87      0.87       137\n",
      "\n"
     ]
    }
   ],
   "source": [
    "from sklearn.ensemble import RandomForestClassifier\n",
    "\n",
    "# Initialize the Random Forest Classifier\n",
    "rf_model = RandomForestClassifier(n_estimators=100, random_state=42)\n",
    "\n",
    "# Train the model\n",
    "rf_model.fit(X_train_tfidf, y_train)\n",
    "\n",
    "# Make predictions on the test set\n",
    "y_pred_rf = rf_model.predict(X_test_tfidf)\n",
    "\n",
    "# Evaluate the model\n",
    "accuracy_rf = accuracy_score(y_test, y_pred_rf)\n",
    "print(f\"Accuracy (Random Forest): {accuracy_rf}\")\n",
    "print(\"Classification Report (Random Forest):\")\n",
    "print(classification_report(y_test, y_pred_rf))\n"
   ]
  },
  {
   "cell_type": "code",
   "execution_count": 42,
   "id": "aa8b092a-9468-4f8b-be9d-1e314aae7b49",
   "metadata": {},
   "outputs": [
    {
     "name": "stdout",
     "output_type": "stream",
     "text": [
      "Best Parameters: {'C': 1, 'max_iter': 100}\n",
      "Accuracy (GridSearchCV): 0.8686131386861314\n"
     ]
    }
   ],
   "source": [
    "from sklearn.model_selection import GridSearchCV\n",
    "\n",
    "# Hyperparameters for Logistic Regression\n",
    "param_grid = {\n",
    "    'C': [0.1, 1, 10],  # Regularization strength\n",
    "    'max_iter': [100, 500, 1000]  # Number of iterations for convergence\n",
    "}\n",
    "\n",
    "# Initialize GridSearchCV\n",
    "grid_search = GridSearchCV(LogisticRegression(), param_grid, cv=5)\n",
    "\n",
    "# Fit the model\n",
    "grid_search.fit(X_train_tfidf, y_train)\n",
    "\n",
    "# Best parameters found\n",
    "print(f\"Best Parameters: {grid_search.best_params_}\")\n",
    "\n",
    "# Evaluate the best model\n",
    "y_pred_grid = grid_search.best_estimator_.predict(X_test_tfidf)\n",
    "print(\"Accuracy (GridSearchCV):\", accuracy_score(y_test, y_pred_grid))\n"
   ]
  },
  {
   "cell_type": "code",
   "execution_count": 43,
   "id": "7eed4076-cc72-46ec-a1c5-50a318bb6be1",
   "metadata": {},
   "outputs": [],
   "source": [
    "# Initialize the TF-IDF Vectorizer with bigrams\n",
    "vectorizer = TfidfVectorizer(ngram_range=(1, 2), max_features=5000)\n",
    "\n",
    "# Fit and transform the training data, and transform the test data\n",
    "X_train_tfidf = vectorizer.fit_transform(X_train)\n",
    "X_test_tfidf = vectorizer.transform(X_test)\n"
   ]
  },
  {
   "cell_type": "code",
   "execution_count": 44,
   "id": "a65f046a-c2b6-474e-a155-efe371b9a0c2",
   "metadata": {},
   "outputs": [
    {
     "name": "stdout",
     "output_type": "stream",
     "text": [
      "Cross-validation scores: [0.83636364 0.84545455 0.7706422  0.79816514 0.78899083]\n",
      "Mean CV score: 0.8079232693911592\n"
     ]
    }
   ],
   "source": [
    "from sklearn.model_selection import cross_val_score\n",
    "\n",
    "# Perform cross-validation\n",
    "cv_scores = cross_val_score(rf_model, X_train_tfidf, y_train, cv=5)\n",
    "print(f\"Cross-validation scores: {cv_scores}\")\n",
    "print(f\"Mean CV score: {cv_scores.mean()}\")\n"
   ]
  },
  {
   "cell_type": "code",
   "execution_count": 45,
   "id": "924aeb99-b24a-4c3e-b7aa-de26196b9553",
   "metadata": {},
   "outputs": [
    {
     "name": "stdout",
     "output_type": "stream",
     "text": [
      "Accuracy (Voting Classifier): 0.8540145985401459\n"
     ]
    }
   ],
   "source": [
    "from sklearn.ensemble import VotingClassifier\n",
    "\n",
    "# Initialize the models\n",
    "logreg = LogisticRegression(max_iter=1000)\n",
    "rf = RandomForestClassifier(n_estimators=100, random_state=42)\n",
    "\n",
    "# Create a voting classifier\n",
    "voting_clf = VotingClassifier(estimators=[('logreg', logreg), ('rf', rf)], voting='hard')\n",
    "\n",
    "# Train the model\n",
    "voting_clf.fit(X_train_tfidf, y_train)\n",
    "\n",
    "# Evaluate the model\n",
    "y_pred_voting = voting_clf.predict(X_test_tfidf)\n",
    "print(\"Accuracy (Voting Classifier):\", accuracy_score(y_test, y_pred_voting))\n"
   ]
  },
  {
   "cell_type": "code",
   "execution_count": 46,
   "id": "53838944-9262-43c5-8dab-c6e95cd4296e",
   "metadata": {},
   "outputs": [
    {
     "name": "stdout",
     "output_type": "stream",
     "text": [
      "Classification Report:\n",
      "              precision    recall  f1-score   support\n",
      "\n",
      "    Negative       1.00      1.00      1.00        27\n",
      "     Neutral       1.00      1.00      1.00         8\n",
      "    Positive       1.00      1.00      1.00        24\n",
      "    negative       0.63      0.84      0.72        31\n",
      "    positive       0.86      0.68      0.76        47\n",
      "\n",
      "    accuracy                           0.85       137\n",
      "   macro avg       0.90      0.90      0.90       137\n",
      "weighted avg       0.87      0.85      0.86       137\n",
      "\n",
      "Confusion Matrix:\n",
      "[[27  0  0  0  0]\n",
      " [ 0  8  0  0  0]\n",
      " [ 0  0 24  0  0]\n",
      " [ 0  0  0 26  5]\n",
      " [ 0  0  0 15 32]]\n"
     ]
    }
   ],
   "source": [
    "print(\"Classification Report:\")\n",
    "print(classification_report(y_test, y_pred_voting))\n",
    "\n",
    "print(\"Confusion Matrix:\")\n",
    "print(confusion_matrix(y_test, y_pred_voting))\n"
   ]
  },
  {
   "cell_type": "code",
   "execution_count": 47,
   "id": "3035410b-db5b-4c9f-b498-58e37681ee20",
   "metadata": {},
   "outputs": [
    {
     "data": {
      "image/png": "[encoded data removed]",
      "text/plain": [
       "<Figure size 800x600 with 2 Axes>"
      ]
     },
     "metadata": {},
     "output_type": "display_data"
    }
   ],
   "source": [
    "import matplotlib.pyplot as plt\n",
    "import seaborn as sns\n",
    "from sklearn.metrics import confusion_matrix\n",
    "\n",
    "# Confusion matrix\n",
    "cm = confusion_matrix(y_test, y_pred)\n",
    "\n",
    "# Plotting the heatmap\n",
    "plt.figure(figsize=(8, 6))\n",
    "sns.heatmap(cm, annot=True, fmt='d', cmap='Blues', xticklabels=['Negative', 'Neutral', 'Positive', 'negative', 'positive'], yticklabels=['Negative', 'Neutral', 'Positive', 'negative', 'positive'])\n",
    "plt.xlabel('Predicted')\n",
    "plt.ylabel('True')\n",
    "plt.title('Confusion Matrix Heatmap')\n",
    "plt.show()\n"
   ]
  },
  {
   "cell_type": "code",
   "execution_count": 48,
   "id": "6bf5a53a-1c5f-45b9-8fa0-f221a488bb06",
   "metadata": {},
   "outputs": [
    {
     "data": {
      "image/png": "[encoded data removed]",
      "text/plain": [
       "<Figure size 1000x600 with 1 Axes>"
      ]
     },
     "metadata": {},
     "output_type": "display_data"
    }
   ],
   "source": [
    "from sklearn.metrics import classification_report\n",
    "import pandas as pd\n",
    "\n",
    "# Classification report\n",
    "report = classification_report(y_test, y_pred, output_dict=True)\n",
    "report_df = pd.DataFrame(report).transpose()\n",
    "\n",
    "# Plotting the classification report as a bar chart\n",
    "report_df.drop('accuracy', axis=0, inplace=True)\n",
    "report_df.plot(kind='bar', figsize=(10, 6), colormap='viridis')\n",
    "plt.title('Classification Report')\n",
    "plt.ylabel('Score')\n",
    "plt.xlabel('Class')\n",
    "plt.xticks(rotation=45)\n",
    "plt.tight_layout()\n",
    "plt.show()\n"
   ]
  },
  {
   "cell_type": "code",
   "execution_count": 49,
   "id": "e74c5c6a-f07f-41e7-a20a-be30af009e39",
   "metadata": {},
   "outputs": [
    {
     "data": {
      "image/png": "[encoded data removed]",
      "text/plain": [
       "<Figure size 500x500 with 1 Axes>"
      ]
     },
     "metadata": {},
     "output_type": "display_data"
    }
   ],
   "source": [
    "# Accuracy Score Bar Chart\n",
    "accuracy = 0.85  # Replace with your model's accuracy\n",
    "plt.figure(figsize=(5, 5))\n",
    "plt.bar(['Accuracy'], [accuracy], color='green')\n",
    "plt.ylim(0, 1)\n",
    "plt.ylabel('Accuracy')\n",
    "plt.title('Model Accuracy')\n",
    "plt.show()\n"
   ]
  },
  {
   "cell_type": "code",
   "execution_count": 50,
   "id": "491d0ccc-07bf-43b0-b7e3-41c2c9f74f55",
   "metadata": {},
   "outputs": [
    {
     "data": {
      "image/png": "[encoded data removed]",
      "text/plain": [
       "<Figure size 1000x600 with 1 Axes>"
      ]
     },
     "metadata": {},
     "output_type": "display_data"
    }
   ],
   "source": [
    "# Extract precision, recall, and f1-score from the classification report\n",
    "precision = report_df['precision']\n",
    "recall = report_df['recall']\n",
    "f1_score = report_df['f1-score']\n",
    "\n",
    "# Plotting precision, recall, and f1-score for each class\n",
    "x = report_df.index\n",
    "width = 0.2  # Bar width\n",
    "fig, ax = plt.subplots(figsize=(10, 6))\n",
    "\n",
    "ax.bar(x, precision, width, label='Precision', color='blue')\n",
    "ax.bar([p + width for p in range(len(x))], recall, width, label='Recall', color='orange')\n",
    "ax.bar([p + 2 * width for p in range(len(x))], f1_score, width, label='F1-Score', color='green')\n",
    "\n",
    "ax.set_xlabel('Classes')\n",
    "ax.set_ylabel('Scores')\n",
    "ax.set_title('Precision, Recall, and F1-Score for each class')\n",
    "ax.legend()\n",
    "plt.xticks(rotation=45)\n",
    "plt.tight_layout()\n",
    "plt.show()\n"
   ]
  },
  {
   "cell_type": "code",
   "execution_count": 51,
   "id": "ec64dfec-d4d3-4e53-a270-f0c961a1b231",
   "metadata": {},
   "outputs": [
    {
     "name": "stdout",
     "output_type": "stream",
     "text": [
      "Classification Report:\n",
      "              precision    recall  f1-score   support\n",
      "\n",
      "    Negative       1.00      1.00      1.00        27\n",
      "     Neutral       1.00      1.00      1.00         8\n",
      "    Positive       1.00      1.00      1.00        24\n",
      "    negative       0.64      0.87      0.74        31\n",
      "    positive       0.89      0.68      0.77        47\n",
      "\n",
      "    accuracy                           0.86       137\n",
      "   macro avg       0.91      0.91      0.90       137\n",
      "weighted avg       0.88      0.86      0.86       137\n",
      "\n",
      "Confusion Matrix:\n",
      "[[27  0  0  0  0]\n",
      " [ 0  8  0  0  0]\n",
      " [ 0  0 24  0  0]\n",
      " [ 0  0  0 27  4]\n",
      " [ 0  0  0 15 32]]\n"
     ]
    },
    {
     "data": {
      "text/plain": [
       "['final_tfidf_vectorizer.pkl']"
      ]
     },
     "execution_count": 51,
     "metadata": {},
     "output_type": "execute_result"
    }
   ],
   "source": [
    "from sklearn.model_selection import train_test_split\n",
    "from sklearn.feature_extraction.text import TfidfVectorizer\n",
    "from sklearn.ensemble import RandomForestClassifier\n",
    "from sklearn.metrics import classification_report, confusion_matrix\n",
    "import joblib\n",
    "\n",
    "# Load your dataset\n",
    "# Assuming 'df' is your dataframe with 'Text' and 'Sentiment' columns\n",
    "X = df['Text']\n",
    "y = df['Sentiment']\n",
    "\n",
    "# Split the data into training and test sets\n",
    "X_train, X_test, y_train, y_test = train_test_split(X, y, test_size=0.2, random_state=42)\n",
    "\n",
    "# Preprocessing: Use TF-IDF Vectorizer\n",
    "vectorizer = TfidfVectorizer(stop_words='english', max_features=5000)\n",
    "X_train_tfidf = vectorizer.fit_transform(X_train)\n",
    "X_test_tfidf = vectorizer.transform(X_test)\n",
    "\n",
    "# Train the model (Random Forest as an example)\n",
    "model = RandomForestClassifier(n_estimators=100, random_state=42)\n",
    "model.fit(X_train_tfidf, y_train)\n",
    "\n",
    "# Evaluate the model\n",
    "y_pred = model.predict(X_test_tfidf)\n",
    "\n",
    "# Print classification report\n",
    "print(\"Classification Report:\")\n",
    "print(classification_report(y_test, y_pred))\n",
    "\n",
    "# Print confusion matrix\n",
    "print(\"Confusion Matrix:\")\n",
    "print(confusion_matrix(y_test, y_pred))\n",
    "\n",
    "# Save the model and vectorizer\n",
    "joblib.dump(model, 'final_sentiment_model.pkl')\n",
    "joblib.dump(vectorizer, 'final_tfidf_vectorizer.pkl')\n"
   ]
  },
  {
   "cell_type": "code",
   "execution_count": 52,
   "id": "67958603-d787-412f-bbf6-b373a5a5c151",
   "metadata": {},
   "outputs": [],
   "source": [
    "import pickle\n",
    "\n",
    "# Save the trained model to a file\n",
    "with open('final_model.pkl', 'wb') as model_file:\n",
    "    pickle.dump(model, model_file)\n"
   ]
  },
  {
   "cell_type": "code",
   "execution_count": 53,
   "id": "81aa5b12-2b87-41e3-8eca-3a748990b64d",
   "metadata": {},
   "outputs": [],
   "source": [
    "# Save the TF-IDF vectorizer to a file\n",
    "with open('final_tfidf_vectorizer.pkl', 'wb') as vectorizer_file:\n",
    "    pickle.dump(vectorizer, vectorizer_file)\n"
   ]
  },
  {
   "cell_type": "code",
   "execution_count": 54,
   "id": "7eea2c86-fb52-432c-a6bd-c7b4295fef77",
   "metadata": {},
   "outputs": [
    {
     "name": "stdout",
     "output_type": "stream",
     "text": [
      "C:\\Users\\Acer\n"
     ]
    }
   ],
   "source": [
    "import os\n",
    "print(os.getcwd())  # This will print the current working directory\n"
   ]
  },
  {
   "cell_type": "code",
   "execution_count": 58,
   "id": "74f54bd2-52e2-4676-aebe-7d3f8913b3cf",
   "metadata": {},
   "outputs": [],
   "source": [
    "import pickle\n",
    "\n",
    "# Load the model and vectorizer\n",
    "with open('final_tfidf_vectorizer.pkl', 'rb') as f:\n",
    "    vectorizer = pickle.load(f)\n",
    "\n",
    "with open('sentiment_model.pkl', 'rb') as f:\n",
    "    model = pickle.load(f)\n"
   ]
  },
  {
   "cell_type": "code",
   "execution_count": 59,
   "id": "9613255b-b26e-49e1-81e6-e47ebff6c4bc",
   "metadata": {},
   "outputs": [],
   "source": [
    "# Example function to preprocess and predict sentiment\n",
    "def predict_sentiment(text):\n",
    "    # Preprocess and vectorize the text\n",
    "    text_vectorized = vectorizer.transform([text])\n",
    "    \n",
    "    # Make prediction\n",
    "    prediction = model.predict(text_vectorized)\n",
    "    \n",
    "    return prediction[0]\n"
   ]
  },
  {
   "cell_type": "code",
   "execution_count": 1,
   "id": "3dde2a8e-0ca3-49cf-879d-9f856bc396bc",
   "metadata": {},
   "outputs": [
    {
     "name": "stdout",
     "output_type": "stream",
     "text": [
      "                                                Text Sentiment\n",
      "0                    The staff were polite but slow.   Neutral\n",
      "1  I fell asleep halfway through the film; it was...  Negative\n",
      "2            The park was clean and well-maintained.  Positive\n",
      "3             This phone has excellent battery life!  Positive\n",
      "4           The headphones are decent for the price.   Neutral\n"
     ]
    }
   ],
   "source": [
    "import pandas as pd\n",
    "\n",
    "# Load the dataset from the Excel file\n",
    "file_path = \"C:/Users/Acer/Desktop/Sentiment Analysis Web App/sentiment_dataset.xlsx\"\n",
    "df = pd.read_excel(file_path)\n",
    "\n",
    "# Inspect the first few rows of the dataset\n",
    "print(df.head())"
   ]
  },
  {
   "cell_type": "code",
   "execution_count": 4,
   "id": "bc864711-445c-4785-99db-c4ff1032f5ae",
   "metadata": {},
   "outputs": [
    {
     "name": "stdout",
     "output_type": "stream",
     "text": [
      "Sentiment\n",
      "positive    227\n",
      "negative    203\n",
      "Positive    104\n",
      "Negative    100\n",
      "Neutral      50\n",
      "Name: count, dtype: int64\n"
     ]
    }
   ],
   "source": [
    "# Extract features and labels\n",
    "X = df['Text']  # Assuming 'Text' column contains the text data\n",
    "y = df['Sentiment']  # Assuming 'Sentiment' column contains the labels (e.g., Positive, Negative, Neutral)\n",
    "\n",
    "# Optionally, inspect the distribution of labels\n",
    "print(y.value_counts())\n"
   ]
  },
  {
   "cell_type": "code",
   "execution_count": 5,
   "id": "43cde232-4c9c-4002-9cab-cefcb0c34d95",
   "metadata": {},
   "outputs": [
    {
     "name": "stdout",
     "output_type": "stream",
     "text": [
      "Training set size: 547\n",
      "Testing set size: 137\n"
     ]
    }
   ],
   "source": [
    "from sklearn.model_selection import train_test_split\n",
    "\n",
    "# Split the data into training and testing sets (80% training, 20% testing)\n",
    "X_train, X_test, y_train, y_test = train_test_split(X, y, test_size=0.2, random_state=42)\n",
    "\n",
    "# Check the size of the splits\n",
    "print(f\"Training set size: {len(X_train)}\")\n",
    "print(f\"Testing set size: {len(X_test)}\")\n"
   ]
  },
  {
   "cell_type": "code",
   "execution_count": 6,
   "id": "07c2e6b7-8308-46ed-aa47-9e59feb20726",
   "metadata": {},
   "outputs": [
    {
     "name": "stdout",
     "output_type": "stream",
     "text": [
      "Shape of X_train_vectorized: (547, 994)\n",
      "Shape of X_test_vectorized: (137, 994)\n"
     ]
    }
   ],
   "source": [
    "from sklearn.feature_extraction.text import TfidfVectorizer\n",
    "\n",
    "# Initialize the vectorizer\n",
    "vectorizer = TfidfVectorizer(max_features=5000)  # Limit the number of features to 5000\n",
    "\n",
    "# Fit and transform the training data, and transform the test data\n",
    "X_train_vectorized = vectorizer.fit_transform(X_train)\n",
    "X_test_vectorized = vectorizer.transform(X_test)\n",
    "\n",
    "# Check the shape of the vectorized data\n",
    "print(f\"Shape of X_train_vectorized: {X_train_vectorized.shape}\")\n",
    "print(f\"Shape of X_test_vectorized: {X_test_vectorized.shape}\")\n"
   ]
  },
  {
   "cell_type": "code",
   "execution_count": 7,
   "id": "40b0a574-adad-4cf8-92fa-523c06a0e95f",
   "metadata": {},
   "outputs": [
    {
     "data": {
      "text/plain": [
       "['final_tfidf_vectorizer.pkl']"
      ]
     },
     "execution_count": 7,
     "metadata": {},
     "output_type": "execute_result"
    }
   ],
   "source": [
    "from sklearn.linear_model import LogisticRegression\n",
    "\n",
    "# Initialize the model\n",
    "model = LogisticRegression(max_iter=1000)\n",
    "\n",
    "# Train the model\n",
    "model.fit(X_train_vectorized, y_train)\n",
    "\n",
    "# Save the model and vectorizer\n",
    "import joblib\n",
    "joblib.dump(model, 'final_logistic_regression_model.pkl')\n",
    "joblib.dump(vectorizer, 'final_tfidf_vectorizer.pkl')\n"
   ]
  },
  {
   "cell_type": "code",
   "execution_count": 8,
   "id": "526052b3-24d1-4e13-8995-61fc1b2c800b",
   "metadata": {},
   "outputs": [
    {
     "name": "stdout",
     "output_type": "stream",
     "text": [
      "Classification Report:\n",
      "              precision    recall  f1-score   support\n",
      "\n",
      "    Negative       1.00      1.00      1.00        27\n",
      "     Neutral       1.00      1.00      1.00         8\n",
      "    Positive       1.00      1.00      1.00        24\n",
      "    negative       0.71      0.81      0.76        31\n",
      "    positive       0.86      0.79      0.82        47\n",
      "\n",
      "    accuracy                           0.88       137\n",
      "   macro avg       0.91      0.92      0.92       137\n",
      "weighted avg       0.89      0.88      0.88       137\n",
      "\n",
      "Confusion Matrix:\n",
      "[[27  0  0  0  0]\n",
      " [ 0  8  0  0  0]\n",
      " [ 0  0 24  0  0]\n",
      " [ 0  0  0 25  6]\n",
      " [ 0  0  0 10 37]]\n"
     ]
    }
   ],
   "source": [
    "from sklearn.metrics import classification_report, confusion_matrix\n",
    "\n",
    "# Make predictions on the test set\n",
    "y_pred = model.predict(X_test_vectorized)\n",
    "\n",
    "# Print the classification report\n",
    "print(\"Classification Report:\")\n",
    "print(classification_report(y_test, y_pred))\n",
    "\n",
    "# Print the confusion matrix\n",
    "print(\"Confusion Matrix:\")\n",
    "print(confusion_matrix(y_test, y_pred))\n"
   ]
  },
  {
   "cell_type": "code",
   "execution_count": 9,
   "id": "6a927e3a-d43f-470c-8483-ed19ad3e4c73",
   "metadata": {},
   "outputs": [
    {
     "name": "stdout",
     "output_type": "stream",
     "text": [
      "Predicted sentiment: positive\n"
     ]
    }
   ],
   "source": [
    "# Example of testing with a new text\n",
    "text = \"I love this product!\"\n",
    "text_vectorized = vectorizer.transform([text])\n",
    "prediction = model.predict(text_vectorized)\n",
    "print(f\"Predicted sentiment: {prediction[0]}\")\n"
   ]
  },
  {
   "cell_type": "code",
   "execution_count": 10,
   "id": "f30fd93f-2c7c-4030-b365-f7b09257c0d1",
   "metadata": {},
   "outputs": [
    {
     "data": {
      "text/plain": [
       "['final_tfidf_vectorizer.pkl']"
      ]
     },
     "execution_count": 10,
     "metadata": {},
     "output_type": "execute_result"
    }
   ],
   "source": [
    "import joblib\n",
    "\n",
    "# Save the trained model\n",
    "joblib.dump(model, 'final_logistic_regression_model.pkl')\n",
    "\n",
    "# Save the vectorizer\n",
    "joblib.dump(vectorizer, 'final_tfidf_vectorizer.pkl')\n"
   ]
  },
  {
   "cell_type": "code",
   "execution_count": 1,
   "id": "af46b0ec-9f0c-48c6-a484-da911e44a9a9",
   "metadata": {},
   "outputs": [],
   "source": [
    "import joblib\n",
    "\n",
    "# Load the trained model and vectorizer\n",
    "model = joblib.load('final_logistic_regression_model.pkl')\n",
    "vectorizer = joblib.load('final_tfidf_vectorizer.pkl')\n",
    "\n",
    "# Your Streamlit app code continues here...\n"
   ]
  },
  {
   "cell_type": "code",
   "execution_count": null,
   "id": "7804644b-1a18-4d43-a1e7-8b09d51d6ca0",
   "metadata": {},
   "outputs": [],
   "source": []
  }
 ],
 "metadata": {
  "kernelspec": {
   "display_name": "Python 3 (ipykernel)",
   "language": "python",
   "name": "python3"
  },
  "language_info": {
   "codemirror_mode": {
    "name": "ipython",
    "version": 3
   },
   "file_extension": ".py",
   "mimetype": "text/x-python",
   "name": "python",
   "nbconvert_exporter": "python",
   "pygments_lexer": "ipython3",
   "version": "3.11.0"
  }
 },
 "nbformat": 4,
 "nbformat_minor": 5
}
